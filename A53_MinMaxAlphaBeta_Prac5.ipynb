{
  "nbformat": 4,
  "nbformat_minor": 0,
  "metadata": {
    "colab": {
      "provenance": []
    },
    "kernelspec": {
      "name": "python3",
      "display_name": "Python 3"
    },
    "language_info": {
      "name": "python"
    }
  },
  "cells": [
    {
      "cell_type": "markdown",
      "source": [
        "# Artificial Intelligence Lab \n",
        "# Practical - 05\n",
        "\n",
        "<hr>\n",
        "\n",
        "### Name : Prathamesh Rajbhoj\n",
        "### Roll : 53\n",
        "### Batch : A-3\n",
        "\n"
      ],
      "metadata": {
        "id": "Jj9fTscp_GIR"
      }
    },
    {
      "cell_type": "markdown",
      "source": [
        "## Creating Class TreeNode to construct Tree"
      ],
      "metadata": {
        "id": "LoSsrHNBAJ8J"
      }
    },
    {
      "cell_type": "code",
      "execution_count": 1,
      "metadata": {
        "id": "hgODrpS430TK"
      },
      "outputs": [],
      "source": [
        "class TreeNode:\n",
        "\n",
        "   def __init__(self, data):\n",
        "      self.left = None\n",
        "      self.right = None\n",
        "      self.data = data\n",
        "\n"
      ]
    },
    {
      "cell_type": "markdown",
      "source": [
        "## Function to construct Tree from level order Traversal"
      ],
      "metadata": {
        "id": "tKF9t8gtAQLA"
      }
    },
    {
      "cell_type": "code",
      "source": [
        "def CreateTreeFromList(arr):\n",
        "\n",
        "  n = len(arr)\n",
        "  tree = []\n",
        "\n",
        "  if(n==0):\n",
        "    return None\n",
        "\n",
        "  root = TreeNode(arr[1])\n",
        "  tree.append(root)\n",
        "\n",
        "  for i in range (1,n):\n",
        "\n",
        "    currIndex = i\n",
        "    parIndex = (i-1)//2\n",
        "\n",
        "    isLeft = True\n",
        "\n",
        "    if(i%2==0):\n",
        "      isLeft = False\n",
        "\n",
        "    currNode = TreeNode(arr[currIndex])\n",
        "    parNode = tree[parIndex]\n",
        "\n",
        "    tree.append(currNode)\n",
        "\n",
        "    if(isLeft):\n",
        "      parNode.left = currNode\n",
        "    else:\n",
        "      parNode.right = currNode\n",
        "\n",
        "\n",
        "  return tree"
      ],
      "metadata": {
        "id": "HfyKhfJJCvvg"
      },
      "execution_count": 2,
      "outputs": []
    },
    {
      "cell_type": "markdown",
      "source": [
        "## Function to perform In-order Traversal"
      ],
      "metadata": {
        "id": "yEmVwYAuAbCI"
      }
    },
    {
      "cell_type": "code",
      "source": [
        "def inOrderTraversal(root, arr):\n",
        "\n",
        "  if(root==None):\n",
        "    return\n",
        "\n",
        "  inOrderTraversal(root.left, arr)\n",
        "  arr.append(root.data)\n",
        "  inOrderTraversal(root.right, arr)\n",
        "  "
      ],
      "metadata": {
        "id": "QKAXdABknsyF"
      },
      "execution_count": 3,
      "outputs": []
    },
    {
      "cell_type": "markdown",
      "source": [
        "## Implementing Min Max Algorithm"
      ],
      "metadata": {
        "id": "Cno_gIK7AffK"
      }
    },
    {
      "cell_type": "code",
      "source": [
        "def MinMax(root, isMaxLevel):\n",
        "\n",
        "  if(root==None):\n",
        "    return 0\n",
        "\n",
        "  if(root.left == None and root.right == None):\n",
        "    return root.data\n",
        "  \n",
        "  if(isMaxLevel == True):\n",
        "\n",
        "    leftval = MinMax(root.left, False)\n",
        "    rightval = MinMax(root.right, False)\n",
        "\n",
        "    ans = max(leftval, rightval)\n",
        "    root.data = ans\n",
        "\n",
        "    # print(root.data, leftval, rightval)\n",
        "\n",
        "    return ans\n",
        "\n",
        "  else:\n",
        "\n",
        "    leftval = MinMax(root.left, True)\n",
        "    rightval = MinMax(root.right, True)\n",
        "\n",
        "    ans = min(leftval, rightval)\n",
        "    root.data = ans\n",
        "\n",
        "    # print(root.data, leftval, rightval)\n",
        "    \n",
        "    return ans\n",
        "\n",
        "\n"
      ],
      "metadata": {
        "id": "AuYMPqa8aKIT"
      },
      "execution_count": 4,
      "outputs": []
    },
    {
      "cell_type": "markdown",
      "source": [
        "## Implementing Alpha Beta Pruning Algorithm"
      ],
      "metadata": {
        "id": "VYKfjnzcAlJB"
      }
    },
    {
      "cell_type": "code",
      "source": [
        "def alphaBetaPruning(root, isMaxLevel, alpha, beta):\n",
        "\n",
        "  if(root==None):\n",
        "    return 0\n",
        "\n",
        "  if(root.left == None and root.right == None):\n",
        "    return root.data\n",
        "  \n",
        "  if(isMaxLevel == True):\n",
        "\n",
        "    leftval = alphaBetaPruning(root.left, False, alpha, beta)\n",
        "\n",
        "    alpha = max(alpha, leftval)\n",
        "\n",
        "    if(beta <= alpha):\n",
        "      return alpha\n",
        "\n",
        "    rightval = alphaBetaPruning(root.right, False, alpha, beta)\n",
        "\n",
        "    ans = max(leftval, rightval)\n",
        "    root.data = ans\n",
        "\n",
        "    alpha = max(alpha, rightval)\n",
        "\n",
        "    if(beta <= alpha):\n",
        "      return ans\n",
        "\n",
        "    # print(root.data, leftval, rightval)\n",
        "\n",
        "    return ans\n",
        "\n",
        "  else:\n",
        "\n",
        "    leftval = alphaBetaPruning(root.left, True, alpha, beta)\n",
        "\n",
        "    beta = min(beta, leftval)\n",
        "\n",
        "    if(beta <= alpha):\n",
        "      return beta\n",
        "\n",
        "    rightval = alphaBetaPruning(root.right, True, alpha, beta)\n",
        "\n",
        "    ans = min(leftval, rightval)\n",
        "    root.data = ans\n",
        "\n",
        "    beta = min(beta, ans)\n",
        "\n",
        "    if(beta <= alpha):\n",
        "      return ans\n",
        "      \n",
        "\n",
        "    # print(root.data, leftval, rightval)\n",
        "    \n",
        "    return ans\n",
        "\n",
        "\n"
      ],
      "metadata": {
        "id": "Lzg6p3Z85RPC"
      },
      "execution_count": 5,
      "outputs": []
    },
    {
      "cell_type": "markdown",
      "source": [
        "## Testing Min Max Algo"
      ],
      "metadata": {
        "id": "75a0hPB8ArC4"
      }
    },
    {
      "cell_type": "code",
      "source": [
        "# arr = [1,2,3,4]\n",
        "# arr = [-1,4,2,6,-3,-5,0,7]\n",
        "arr = [80,30,25,35,55,20,5,65,40,10,70,15,50,45,60,75]\n",
        "\n",
        "\n",
        "for i in range(15):\n",
        "  arr.insert(0, 0)\n",
        "\n",
        "print(arr)\n",
        "\n",
        "treeList = CreateTreeFromList(arr)\n",
        "root = treeList[0]\n",
        "\n",
        "traversal = []\n",
        "inOrderTraversal(root, traversal)\n",
        "print(traversal)\n",
        "\n",
        "print(\"Tree Constructed : \", end = \" \")\n",
        "for i in treeList:\n",
        "  print(i.data, end=\", \")"
      ],
      "metadata": {
        "id": "G37GOWTQ7CxM",
        "colab": {
          "base_uri": "https://localhost:8080/"
        },
        "outputId": "50f7d20b-6485-4970-b4ae-d6bec597cbcf"
      },
      "execution_count": 6,
      "outputs": [
        {
          "output_type": "stream",
          "name": "stdout",
          "text": [
            "[0, 0, 0, 0, 0, 0, 0, 0, 0, 0, 0, 0, 0, 0, 0, 80, 30, 25, 35, 55, 20, 5, 65, 40, 10, 70, 15, 50, 45, 60, 75]\n",
            "[80, 0, 30, 0, 25, 0, 35, 0, 55, 0, 20, 0, 5, 0, 65, 0, 40, 0, 10, 0, 70, 0, 15, 0, 50, 0, 45, 0, 60, 0, 75]\n",
            "Tree Constructed :  0, 0, 0, 0, 0, 0, 0, 0, 0, 0, 0, 0, 0, 0, 0, 80, 30, 25, 35, 55, 20, 5, 65, 40, 10, 70, 15, 50, 45, 60, 75, "
          ]
        }
      ]
    },
    {
      "cell_type": "code",
      "source": [
        "answer = MinMax(root, True)\n",
        "\n",
        "print(f'Value from Min-Max Algorithm : {answer}')\n",
        "\n",
        "print(\"Tree Constructed : \", end = \" \")\n",
        "for i in treeList:\n",
        "  print(i.data, end=\", \")"
      ],
      "metadata": {
        "id": "kTDoYExoZ4C8",
        "colab": {
          "base_uri": "https://localhost:8080/"
        },
        "outputId": "42a5bba7-aa2d-4b55-d694-953cba298981"
      },
      "execution_count": 7,
      "outputs": [
        {
          "output_type": "stream",
          "name": "stdout",
          "text": [
            "Value from Min-Max Algorithm : 20\n",
            "Tree Constructed :  20, 20, 15, 30, 20, 15, 60, 30, 25, 20, 5, 10, 15, 45, 60, 80, 30, 25, 35, 55, 20, 5, 65, 40, 10, 70, 15, 50, 45, 60, 75, "
          ]
        }
      ]
    },
    {
      "cell_type": "markdown",
      "source": [
        "## Testing Alpha Beta Pruning Algo"
      ],
      "metadata": {
        "id": "f7JrWhOkAuXY"
      }
    },
    {
      "cell_type": "code",
      "source": [
        "# arr = [1,2,3,4]\n",
        "# arr = [-1,4,2,6,-3,-5,0,7]\n",
        "arr = [80,30,25,35,55,20,5,65,40,10,70,15,50,45,60,75]\n",
        "\n",
        "\n",
        "for i in range(15):\n",
        "  arr.insert(0, 0)\n",
        "\n",
        "print(arr)\n",
        "\n",
        "treeList = CreateTreeFromList(arr)\n",
        "root = treeList[0]\n",
        "\n",
        "traversal = []\n",
        "inOrderTraversal(root, traversal)\n",
        "print(traversal)\n",
        "\n",
        "print(\"Tree Constructed : \", end = \" \")\n",
        "for i in treeList:\n",
        "  print(i.data, end=\", \")"
      ],
      "metadata": {
        "colab": {
          "base_uri": "https://localhost:8080/"
        },
        "id": "w5qRtTBN_BsK",
        "outputId": "130fa604-a9a4-461f-ffe9-9d56ddcc5e6f"
      },
      "execution_count": 8,
      "outputs": [
        {
          "output_type": "stream",
          "name": "stdout",
          "text": [
            "[0, 0, 0, 0, 0, 0, 0, 0, 0, 0, 0, 0, 0, 0, 0, 80, 30, 25, 35, 55, 20, 5, 65, 40, 10, 70, 15, 50, 45, 60, 75]\n",
            "[80, 0, 30, 0, 25, 0, 35, 0, 55, 0, 20, 0, 5, 0, 65, 0, 40, 0, 10, 0, 70, 0, 15, 0, 50, 0, 45, 0, 60, 0, 75]\n",
            "Tree Constructed :  0, 0, 0, 0, 0, 0, 0, 0, 0, 0, 0, 0, 0, 0, 0, 80, 30, 25, 35, 55, 20, 5, 65, 40, 10, 70, 15, 50, 45, 60, 75, "
          ]
        }
      ]
    },
    {
      "cell_type": "code",
      "source": [
        "answer = alphaBetaPruning(root, True, -99999, 99999)\n",
        "\n",
        "print(f'Value from Min-Max Algorithm : {answer}')\n",
        "\n",
        "print(\"Tree Constructed : \", end = \" \")\n",
        "for i in treeList:\n",
        "  print(i.data, end=\", \")"
      ],
      "metadata": {
        "id": "A83Vm6EXhJ0d",
        "colab": {
          "base_uri": "https://localhost:8080/"
        },
        "outputId": "54b54a30-600b-471d-da41-6759f567cbd4"
      },
      "execution_count": 9,
      "outputs": [
        {
          "output_type": "stream",
          "name": "stdout",
          "text": [
            "Value from Min-Max Algorithm : 20\n",
            "Tree Constructed :  20, 20, 0, 30, 20, 15, 0, 30, 0, 20, 0, 10, 15, 0, 0, 80, 30, 25, 35, 55, 20, 5, 65, 40, 10, 70, 15, 50, 45, 60, 75, "
          ]
        }
      ]
    },
    {
      "cell_type": "code",
      "source": [],
      "metadata": {
        "id": "jXE04M73piXM"
      },
      "execution_count": 9,
      "outputs": []
    }
  ]
}