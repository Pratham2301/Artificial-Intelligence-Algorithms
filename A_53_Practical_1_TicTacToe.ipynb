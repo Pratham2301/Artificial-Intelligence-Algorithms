{
  "nbformat": 4,
  "nbformat_minor": 0,
  "metadata": {
    "colab": {
      "provenance": []
    },
    "kernelspec": {
      "name": "python3",
      "display_name": "Python 3"
    },
    "language_info": {
      "name": "python"
    }
  },
  "cells": [
    {
      "cell_type": "markdown",
      "source": [
        "# Practical 1 - Artificial Intelligence Lab \n",
        "\n",
        "## Name: Prathamesh Rajbhoj\n",
        "\n",
        "## Roll No: A - 53"
      ],
      "metadata": {
        "id": "zjSPOgJ2l-YT"
      }
    },
    {
      "cell_type": "code",
      "execution_count": 1,
      "metadata": {
        "id": "u1iWfgbxi6W_"
      },
      "outputs": [],
      "source": [
        "import math"
      ]
    },
    {
      "cell_type": "code",
      "source": [
        "def printGrid(grid, rows, cols):\n",
        "    print(\"Current Game\\n\\n\")\n",
        "    for i in range(rows):\n",
        "        print(grid[i])"
      ],
      "metadata": {
        "id": "FQQuBK7ci8-9"
      },
      "execution_count": 2,
      "outputs": []
    },
    {
      "cell_type": "code",
      "source": [
        "def checkWinner(grid,rows,cols,x):\n",
        "\n",
        "\n",
        "    if(grid[0][0]==x and grid[0][1]==x and grid[0][2]==x):\n",
        "        return True\n",
        "\n",
        "    if(grid[1][0]==x and grid[1][1]==x and grid[1][2]==x):\n",
        "        return True\n",
        "\n",
        "    if(grid[2][0]==x and grid[2][1]==x and grid[2][2]==x):\n",
        "        return True\n",
        "\n",
        "\n",
        "\n",
        "\n",
        "\n",
        "    if(grid[0][0]==x and grid[1][0]==x and grid[2][0]==x):\n",
        "        return True\n",
        "\n",
        "    if(grid[0][1]==x and grid[1][1]==x and grid[2][1]==x):\n",
        "        return True\n",
        "\n",
        "    if(grid[0][2]==x and grid[1][2]==x and grid[2][2]==x):\n",
        "        return True\n",
        "\n",
        "\n",
        "\n",
        "    if(grid[0][0]==x and grid[1][1]==x and grid[2][2]==x):\n",
        "        return True\n",
        "\n",
        "    if(grid[0][2]==x and grid[1][1]==x and grid[2][0]==x):\n",
        "        return True\n",
        "            \n",
        "    return False  "
      ],
      "metadata": {
        "id": "l9mb2Hg2i9Ml"
      },
      "execution_count": 3,
      "outputs": []
    },
    {
      "cell_type": "code",
      "source": [
        "def printChoices(grid, rows, cols):\n",
        "    \n",
        "    lst = []\n",
        "    \n",
        "    for i in range(rows):\n",
        "        for j in range(cols):\n",
        "            if(grid[i][j]==0):\n",
        "                pair = (i+1,j+1)\n",
        "                lst.append(pair)\n",
        "    \n",
        "    if(len(lst)==0):\n",
        "        print(\"No Choices Available\")\n",
        "    else:\n",
        "        print(\"Choices Available : \")\n",
        "        print(*sorted(lst))"
      ],
      "metadata": {
        "id": "6PgKVGlDjOOW"
      },
      "execution_count": 4,
      "outputs": []
    },
    {
      "cell_type": "code",
      "source": [
        "def checkValidity(x,y,rows,cols):\n",
        "    if(x>=0 and x<rows and y>=0 and y<cols):\n",
        "        return True;\n",
        "    else:\n",
        "        return False;"
      ],
      "metadata": {
        "id": "9Z8muGbVi9U8"
      },
      "execution_count": 5,
      "outputs": []
    },
    {
      "cell_type": "code",
      "source": [
        "# Starting main code\n",
        "\n",
        "if __name__ == \"__main__\":\n",
        "    print(\"Welcome to Tic Tac Toe\")\n",
        "    \n",
        "    rows = 3\n",
        "    cols = 3\n",
        "    \n",
        "    grid = [[0,0,0],[0,0,0],[0,0,0]]\n",
        "    \n",
        "    \n",
        "    loop = 9\n",
        "    currPlayer = 1\n",
        "    \n",
        "    for chance in range(loop):\n",
        "        \n",
        "        print(\"\\n\\n\")\n",
        "        printGrid(grid, rows, cols)\n",
        "        print(\"\\n\\n\")\n",
        "    \n",
        "        \n",
        "        print(\"Player \", currPlayer, \" chance \\n\\n\")\n",
        "        \n",
        "        printChoices(grid, rows, cols)\n",
        "        x,y = input(\"Enter where you want to play : \").split()\n",
        "        \n",
        "        x = int(x)\n",
        "        y = int(y)\n",
        "        \n",
        "        # print(x,y)\n",
        "        \n",
        "        x=x-1\n",
        "        y=y-1\n",
        "        \n",
        "        \n",
        "        if(checkValidity(x,y,rows,cols)==False):\n",
        "            print(\"Invalid input\")\n",
        "            continue\n",
        "    \n",
        "        if(grid[x][y]==0):\n",
        "            grid[x][y] = currPlayer\n",
        "            \n",
        "            \n",
        "            if(checkWinner(grid, rows, cols,currPlayer)==True):\n",
        "                print(\"Player \", currPlayer, \" Won\")\n",
        "                break\n",
        "            \n",
        "            currPlayer = currPlayer % 2\n",
        "            currPlayer = currPlayer+1\n",
        "        else:\n",
        "            print(\"Invalid input\")\n",
        "        \n",
        "        if(chance==loop-1):\n",
        "          print(\"tieeee\")\n"
      ],
      "metadata": {
        "colab": {
          "base_uri": "https://localhost:8080/",
          "height": 0
        },
        "id": "vF-YkcvIi9g0",
        "outputId": "b43dc1af-9b42-44ea-caa9-6a7f62e76612"
      },
      "execution_count": 7,
      "outputs": [
        {
          "output_type": "stream",
          "name": "stdout",
          "text": [
            "Welcome to Tic Tac Toe\n",
            "\n",
            "\n",
            "\n",
            "Current Game\n",
            "\n",
            "\n",
            "[0, 0, 0]\n",
            "[0, 0, 0]\n",
            "[0, 0, 0]\n",
            "\n",
            "\n",
            "\n",
            "Player  1  chance \n",
            "\n",
            "\n",
            "Choices Available : \n",
            "(1, 1) (1, 2) (1, 3) (2, 1) (2, 2) (2, 3) (3, 1) (3, 2) (3, 3)\n",
            "Enter where you want to play : 2 2\n",
            "\n",
            "\n",
            "\n",
            "Current Game\n",
            "\n",
            "\n",
            "[0, 0, 0]\n",
            "[0, 1, 0]\n",
            "[0, 0, 0]\n",
            "\n",
            "\n",
            "\n",
            "Player  2  chance \n",
            "\n",
            "\n",
            "Choices Available : \n",
            "(1, 1) (1, 2) (1, 3) (2, 1) (2, 3) (3, 1) (3, 2) (3, 3)\n",
            "Enter where you want to play : 2 1\n",
            "\n",
            "\n",
            "\n",
            "Current Game\n",
            "\n",
            "\n",
            "[0, 0, 0]\n",
            "[2, 1, 0]\n",
            "[0, 0, 0]\n",
            "\n",
            "\n",
            "\n",
            "Player  1  chance \n",
            "\n",
            "\n",
            "Choices Available : \n",
            "(1, 1) (1, 2) (1, 3) (2, 3) (3, 1) (3, 2) (3, 3)\n",
            "Enter where you want to play : 1 1 \n",
            "\n",
            "\n",
            "\n",
            "Current Game\n",
            "\n",
            "\n",
            "[1, 0, 0]\n",
            "[2, 1, 0]\n",
            "[0, 0, 0]\n",
            "\n",
            "\n",
            "\n",
            "Player  2  chance \n",
            "\n",
            "\n",
            "Choices Available : \n",
            "(1, 2) (1, 3) (2, 3) (3, 1) (3, 2) (3, 3)\n",
            "Enter where you want to play : 2 3\n",
            "\n",
            "\n",
            "\n",
            "Current Game\n",
            "\n",
            "\n",
            "[1, 0, 0]\n",
            "[2, 1, 2]\n",
            "[0, 0, 0]\n",
            "\n",
            "\n",
            "\n",
            "Player  1  chance \n",
            "\n",
            "\n",
            "Choices Available : \n",
            "(1, 2) (1, 3) (3, 1) (3, 2) (3, 3)\n",
            "Enter where you want to play : 3 3\n",
            "Player  1  Won\n"
          ]
        }
      ]
    },
    {
      "cell_type": "code",
      "source": [],
      "metadata": {
        "id": "zyCIs-aUj7Hk"
      },
      "execution_count": null,
      "outputs": []
    }
  ]
}