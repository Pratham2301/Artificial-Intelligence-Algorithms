{
  "nbformat": 4,
  "nbformat_minor": 0,
  "metadata": {
    "colab": {
      "provenance": []
    },
    "kernelspec": {
      "name": "python3",
      "display_name": "Python 3"
    },
    "language_info": {
      "name": "python"
    }
  },
  "cells": [
    {
      "cell_type": "markdown",
      "source": [
        "# Practical 3 - Artificial Intelligence Lab \n",
        "\n",
        "## Name: Prathamesh Rajbhoj\n",
        "\n",
        "## Roll No: A - 53\n"
      ],
      "metadata": {
        "id": "UTesEVeeHs5b"
      }
    },
    {
      "cell_type": "markdown",
      "source": [
        "## Using Alphabetical Order"
      ],
      "metadata": {
        "id": "tcg-n3X9E_ij"
      }
    },
    {
      "cell_type": "code",
      "source": [
        "graph = {\n",
        "    'Bangalore' : [('Hyderabad',1), ('Kolkata',6), ('Mumbai',3)],\n",
        "    'Hyderabad' : [('Kolkata',2), ('Lucknow',4), ('Mumbai',2)],\n",
        "    'Kolkata' : [('Bangalore',6), ('Hyderabad',2), ('Lucknow',3)],\n",
        "    'Lucknow' : [('Hyderabad',4), ('Kolkata',3), ('New Delhi',2)],\n",
        "    'Mumbai' : [('Bangalore',3), ('Hyderabad',2), ('New Delhi',5)],\n",
        "    'New Delhi' : [('Lucknow',2), ('Mumbai',5)]\n",
        "}\n",
        "\n",
        "\n",
        "for i in graph:\n",
        "  graph[i].sort(key = lambda x: x[0]) \n",
        "  print(i, \" : \", graph[i])\n"
      ],
      "metadata": {
        "id": "Fr0xS739sYwv",
        "colab": {
          "base_uri": "https://localhost:8080/",
          "height": 0
        },
        "outputId": "cb829998-e2b6-41dd-cbc6-160e7e5825a5"
      },
      "execution_count": 7,
      "outputs": [
        {
          "output_type": "stream",
          "name": "stdout",
          "text": [
            "Bangalore  :  [('Hyderabad', 1), ('Kolkata', 6), ('Mumbai', 3)]\n",
            "Hyderabad  :  [('Kolkata', 2), ('Lucknow', 4), ('Mumbai', 2)]\n",
            "Kolkata  :  [('Bangalore', 6), ('Hyderabad', 2), ('Lucknow', 3)]\n",
            "Lucknow  :  [('Hyderabad', 4), ('Kolkata', 3), ('New Delhi', 2)]\n",
            "Mumbai  :  [('Bangalore', 3), ('Hyderabad', 2), ('New Delhi', 5)]\n",
            "New Delhi  :  [('Lucknow', 2), ('Mumbai', 5)]\n"
          ]
        }
      ]
    },
    {
      "cell_type": "code",
      "execution_count": 8,
      "metadata": {
        "id": "V7ryxNJDqkUi",
        "colab": {
          "base_uri": "https://localhost:8080/",
          "height": 0
        },
        "outputId": "e969c3c0-f780-4fd0-9cb4-b53252453c4f"
      },
      "outputs": [
        {
          "output_type": "stream",
          "name": "stdout",
          "text": [
            "Path found from BFS Traversal is :  ['New Delhi', 'Mumbai', 'Bangalore']\n"
          ]
        }
      ],
      "source": [
        "def bfs(graph):\n",
        "\n",
        "  q = []\n",
        "  vis = []\n",
        "  parent = []\n",
        "\n",
        "  q.append('New Delhi')\n",
        "  vis.append('New Delhi')\n",
        "\n",
        "  ancs = []\n",
        "\n",
        "  while(q):\n",
        "    sz = len(q)\n",
        "    for loop in range(sz):\n",
        "      node = q.pop(0)\n",
        "\n",
        "      if(node=='Bangalore'):\n",
        "        break\n",
        "\n",
        "      for i in graph[node]: \n",
        "        if(i[0] not in vis):\n",
        "          pair = (i[0],node)\n",
        "          parent.append(pair)\n",
        "          q.append(i[0])\n",
        "          vis.append(i[0])\n",
        "\n",
        "\n",
        "  # print(parent)\n",
        "  return parent\n",
        "\n",
        "parent = bfs(graph)\n",
        "\n",
        "ans = ['Bangalore']\n",
        "child = 'Bangalore'\n",
        "\n",
        "while(child != 'New Delhi'):\n",
        "  par = -1\n",
        "  for i in parent:\n",
        "    if(i[0]==child):\n",
        "      par = i[1]\n",
        "      ans.append(par)\n",
        "      child = par\n",
        "\n",
        "ans.reverse()\n",
        "print('Path found from BFS Traversal is : ', ans)"
      ]
    },
    {
      "cell_type": "markdown",
      "source": [],
      "metadata": {
        "id": "ITANSMY3HqWM"
      }
    },
    {
      "cell_type": "code",
      "source": [
        "pathSize = len(ans)\n",
        "cost = 0\n",
        "\n",
        "for i in range(1,pathSize):\n",
        "\n",
        "  source = ans[i-1]\n",
        "  destination = ans[i]\n",
        "\n",
        "  for j in graph[source]:\n",
        "    if(j[0]==destination):\n",
        "      cost = cost + j[1]\n",
        "\n",
        "print('Path found from BFS Traversal is : ', ans)\n",
        "print('Total Cost is : ', cost)"
      ],
      "metadata": {
        "colab": {
          "base_uri": "https://localhost:8080/",
          "height": 0
        },
        "id": "_Z07vlNAutQw",
        "outputId": "d473c69f-1ea6-4c76-f71f-d32e38482c3a"
      },
      "execution_count": 9,
      "outputs": [
        {
          "output_type": "stream",
          "name": "stdout",
          "text": [
            "Path found from BFS Traversal is :  ['New Delhi', 'Mumbai', 'Bangalore']\n",
            "Total Cost is :  8\n"
          ]
        }
      ]
    },
    {
      "cell_type": "markdown",
      "source": [
        "## Using Minimum Path"
      ],
      "metadata": {
        "id": "lPnW81rnFPv6"
      }
    },
    {
      "cell_type": "code",
      "source": [
        "graph = {\n",
        "    'Bangalore' : [('Hyderabad',1), ('Kolkata',6), ('Mumbai',3)],\n",
        "    'Hyderabad' : [('Kolkata',2), ('Lucknow',4), ('Mumbai',2)],\n",
        "    'Kolkata' : [('Bangalore',6), ('Hyderabad',2), ('Lucknow',3)],\n",
        "    'Lucknow' : [('Hyderabad',4), ('Kolkata',3), ('New Delhi',2)],\n",
        "    'Mumbai' : [('Bangalore',3), ('Hyderabad',2), ('New Delhi',5)],\n",
        "    'New Delhi' : [('Lucknow',2), ('Mumbai',5)]\n",
        "}\n",
        "\n",
        "# print(graph)\n",
        "\n",
        "\n",
        "for i in graph:\n",
        "  graph[i].sort(key = lambda x: x[1]) \n",
        "  print(i, \" : \", graph[i])\n",
        "\n",
        "# for i in range(26):\n",
        "#   print(a[i])"
      ],
      "metadata": {
        "colab": {
          "base_uri": "https://localhost:8080/",
          "height": 0
        },
        "id": "Lsc99YEqwjPx",
        "outputId": "e4fd4a2c-5914-4b8b-93ce-f0d48bec9d20"
      },
      "execution_count": 10,
      "outputs": [
        {
          "output_type": "stream",
          "name": "stdout",
          "text": [
            "Bangalore  :  [('Hyderabad', 1), ('Mumbai', 3), ('Kolkata', 6)]\n",
            "Hyderabad  :  [('Kolkata', 2), ('Mumbai', 2), ('Lucknow', 4)]\n",
            "Kolkata  :  [('Hyderabad', 2), ('Lucknow', 3), ('Bangalore', 6)]\n",
            "Lucknow  :  [('New Delhi', 2), ('Kolkata', 3), ('Hyderabad', 4)]\n",
            "Mumbai  :  [('Hyderabad', 2), ('Bangalore', 3), ('New Delhi', 5)]\n",
            "New Delhi  :  [('Lucknow', 2), ('Mumbai', 5)]\n"
          ]
        }
      ]
    },
    {
      "cell_type": "code",
      "source": [
        "def bfs(graph):\n",
        "\n",
        "  q = []\n",
        "  vis = []\n",
        "  parent = []\n",
        "\n",
        "  q.append('New Delhi')\n",
        "  vis.append('New Delhi')\n",
        "\n",
        "  ancs = []\n",
        "\n",
        "  while(q):\n",
        "    sz = len(q)\n",
        "    for loop in range(sz):\n",
        "      node = q.pop(0)\n",
        "\n",
        "      if(node=='Bangalore'):\n",
        "        break\n",
        "\n",
        "      for i in graph[node]: \n",
        "        if(i[0] not in vis):\n",
        "          pair = (i[0],node)\n",
        "          parent.append(pair)\n",
        "          q.append(i[0])\n",
        "          vis.append(i[0])\n",
        "\n",
        "\n",
        "  # print(parent)\n",
        "  return parent\n",
        "\n",
        "parent = bfs(graph)\n",
        "\n",
        "ans = ['Bangalore']\n",
        "child = 'Bangalore'\n",
        "\n",
        "while(child != 'New Delhi'):\n",
        "  par = -1\n",
        "  for i in parent:\n",
        "    if(i[0]==child):\n",
        "      par = i[1]\n",
        "      ans.append(par)\n",
        "      child = par\n",
        "\n",
        "ans.reverse()\n",
        "print('Path found from BFS Traversal is : ', ans)"
      ],
      "metadata": {
        "colab": {
          "base_uri": "https://localhost:8080/",
          "height": 0
        },
        "id": "WI5KZVSiwjVw",
        "outputId": "44040a35-f16f-429f-dc85-124aca81e052"
      },
      "execution_count": 11,
      "outputs": [
        {
          "output_type": "stream",
          "name": "stdout",
          "text": [
            "Path found from BFS Traversal is :  ['New Delhi', 'Mumbai', 'Bangalore']\n"
          ]
        }
      ]
    },
    {
      "cell_type": "markdown",
      "source": [
        "## Printing Final Cost & Path"
      ],
      "metadata": {
        "id": "Q9lf6_nGFVCh"
      }
    },
    {
      "cell_type": "code",
      "source": [
        "pathSize = len(ans)\n",
        "cost = 0\n",
        "\n",
        "for i in range(1,pathSize):\n",
        "\n",
        "  source = ans[i-1]\n",
        "  destination = ans[i]\n",
        "\n",
        "  for j in graph[source]:\n",
        "    if(j[0]==destination):\n",
        "      cost = cost + j[1]\n",
        "\n",
        "print('Path found from BFS Traversal is : ', ans)\n",
        "print('Total Cost is : ', cost)"
      ],
      "metadata": {
        "id": "PVF0ABas-Czg",
        "colab": {
          "base_uri": "https://localhost:8080/",
          "height": 0
        },
        "outputId": "f9370166-596b-4eab-ff9d-3e2cdaac7782"
      },
      "execution_count": 12,
      "outputs": [
        {
          "output_type": "stream",
          "name": "stdout",
          "text": [
            "Path found from BFS Traversal is :  ['New Delhi', 'Mumbai', 'Bangalore']\n",
            "Total Cost is :  8\n"
          ]
        }
      ]
    }
  ]
}