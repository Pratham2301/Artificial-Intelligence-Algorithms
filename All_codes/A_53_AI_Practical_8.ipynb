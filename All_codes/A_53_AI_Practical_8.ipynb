{
  "nbformat": 4,
  "nbformat_minor": 0,
  "metadata": {
    "colab": {
      "provenance": []
    },
    "kernelspec": {
      "name": "python3",
      "display_name": "Python 3"
    },
    "language_info": {
      "name": "python"
    }
  },
  "cells": [
    {
      "cell_type": "markdown",
      "source": [
        "# Artificial Intelligence Lab\n",
        "# Practical - 08\n",
        "\n",
        "<hr>\n",
        "\n",
        "### Name : Prathamesh Rajbhoj\n",
        "### Roll : 53\n",
        "### Batch : A-3\n",
        "\n"
      ],
      "metadata": {
        "id": "fBCMTmBWAiD3"
      }
    },
    {
      "cell_type": "code",
      "source": [
        "def activation_function(value):\n",
        "\n",
        "  # using relu as Activation Function\n",
        "\n",
        "  if value > 0:\n",
        "      value = 1\n",
        "  else:\n",
        "      value = -1\n",
        "\n",
        "  return value"
      ],
      "metadata": {
        "id": "g-zLEWON7nIU"
      },
      "execution_count": null,
      "outputs": []
    },
    {
      "cell_type": "code",
      "source": [
        "# def Perceptron(inputs, output, learning_rate=0.1, max_iterations=1000):\n",
        "\n",
        "#   ans = 0\n",
        "\n",
        "#   random1 = random.random()\n",
        "#   random2 = random.random()\n",
        "#   random3 = random.random()\n",
        "\n",
        "#   random1 = (random1*10)\n",
        "#   random2 = (random2*10)\n",
        "#   random3 = (random3*10)\n",
        "\n",
        "#   w = [1.1, 1.1]\n",
        "#   b = 0\n",
        "\n",
        "#   for i in range(max_iterations):\n",
        "\n",
        "#     error = 0\n",
        "\n",
        "#     for i in range(len(inputs)):\n",
        "\n",
        "#       ans = ans + 1\n",
        "\n",
        "#       input = inputs[i]\n",
        "#       actual = output[i]\n",
        "\n",
        "#       x1 = input[0]\n",
        "#       x2 = input[1]\n",
        "#       w1 = w[0]\n",
        "#       w2 = w[1]\n",
        "\n",
        "\n",
        "#       calculated = w1*x1 + w2*x2 + b\n",
        "\n",
        "#       calculated = activation_function(calculated)\n",
        "\n",
        "#       if(calculated == actual):\n",
        "#         continue\n",
        "\n",
        "#       i=i-1\n",
        "\n",
        "#       delta = actual - calculated\n",
        "\n",
        "#       error = error + 1\n",
        "\n",
        "#       w[0] += learning_rate * delta * x1\n",
        "#       w[1] += learning_rate * delta * x2\n",
        "#       b += learning_rate * delta\n",
        "\n",
        "#     if(error == 0):\n",
        "#       return w, b, int(ans/len(inputs))\n",
        "\n",
        "#   return w, b, int(ans/len(inputs))"
      ],
      "metadata": {
        "id": "oyf8iNiS04hE"
      },
      "execution_count": null,
      "outputs": []
    },
    {
      "cell_type": "code",
      "source": [
        "# import random\n",
        "\n",
        "# INPUTS = [\n",
        "#     [0,0],\n",
        "#     [0,1],\n",
        "#     [1,0],\n",
        "#     [1,1],\n",
        "# ]\n",
        "\n",
        "# OUTPUT_AND_GATE = [0, 0, 0, 1]\n",
        "# OUTPUT_OR_GATE = [0, 1, 1, 1]\n",
        "# OUTPUT_NAND_GATE = [1, 1, 1, 0]\n",
        "# OUTPUT_NOR_GATE = [1, 0, 0, 0]"
      ],
      "metadata": {
        "id": "vJXBCM0Pzmm_"
      },
      "execution_count": null,
      "outputs": []
    },
    {
      "cell_type": "code",
      "source": [
        "# w_and, b_and, iter_and = Perceptron(INPUTS, OUTPUT_AND_GATE)\n",
        "# print(f'AND gate : {iter_and} iterations')\n",
        "# print(w_and, b_and, iter_and, \"\\n\\n\")\n",
        "\n",
        "\n",
        "\n",
        "# w_or, b_or, iter_or = Perceptron(INPUTS, OUTPUT_OR_GATE)\n",
        "# print(f'OR gate : {iter_or} iterations')\n",
        "# print(w_or, b_or, iter_or, \"\\n\\n\")\n",
        "\n",
        "\n",
        "\n",
        "# w_nand, b_nand, iter_nand = Perceptron(INPUTS, OUTPUT_NAND_GATE)\n",
        "# print(f'NAND gate : {iter_nand} iterations')\n",
        "# print(w_nand, b_nand, iter_nand, \"\\n\\n\")\n",
        "\n",
        "\n",
        "\n",
        "\n",
        "# w_nor, b_nor, iter_nor = Perceptron(INPUTS, OUTPUT_NOR_GATE)\n",
        "# print(f'NOR gate : {iter_nor} iterations')\n",
        "# print(w_nor, b_nor, iter_nor, \"\\n\\n\")"
      ],
      "metadata": {
        "id": "dVoZWzdI9aLy"
      },
      "execution_count": null,
      "outputs": []
    },
    {
      "cell_type": "code",
      "source": [
        "def Perceptron(inputs, output, learning_rate=0.5, max_iterations=1000):\n",
        "\n",
        "  ans = 0\n",
        "\n",
        "  w = [0.3, -0.2, 0.1]\n",
        "  b = -0.5\n",
        "\n",
        "  for i in range(max_iterations):\n",
        "\n",
        "    error = 0\n",
        "\n",
        "    for i in range(len(inputs)):\n",
        "\n",
        "      ans = ans + 1\n",
        "\n",
        "      input = inputs[i]\n",
        "      actual = output[i]\n",
        "\n",
        "      x1 = input[0]\n",
        "      x2 = input[1]\n",
        "      x3 = input[2]\n",
        "\n",
        "      w1 = w[0]\n",
        "      w2 = w[1]\n",
        "      w3 = w[2]\n",
        "\n",
        "\n",
        "      calculated = w1*x1 + w2*x2 + w3*x3 + b\n",
        "\n",
        "      calculated = activation_function(calculated)\n",
        "\n",
        "      if(calculated == actual):\n",
        "        print(i, \"no error\")\n",
        "        continue\n",
        "\n",
        "      i=i-1\n",
        "\n",
        "      delta = actual - calculated\n",
        "\n",
        "      error = error + 1\n",
        "\n",
        "      w[0] += learning_rate * delta * x1\n",
        "      w[1] += learning_rate * delta * x2\n",
        "      w[2] += learning_rate * delta * x3\n",
        "      b += learning_rate * delta\n",
        "\n",
        "      print(i, w, b)\n",
        "\n",
        "    if(error == 0):\n",
        "      return w, b, int(ans/len(inputs))\n",
        "\n",
        "  return w, b, int(ans/len(inputs))"
      ],
      "metadata": {
        "id": "7ms1Vpii9v8p"
      },
      "execution_count": null,
      "outputs": []
    },
    {
      "cell_type": "code",
      "source": [
        "import random\n",
        "\n",
        "INPUTS = [\n",
        "    [-1, -1, -1],\n",
        "    [-1, -1, 1],\n",
        "    [-1, 1, -1],\n",
        "    [-1, 1, 1],\n",
        "]\n",
        "\n",
        "OUTPUT_AND_GATE = [1, -1, -1, -1]"
      ],
      "metadata": {
        "id": "fUsMAPU-Bv-w"
      },
      "execution_count": null,
      "outputs": []
    },
    {
      "cell_type": "code",
      "source": [
        "w_and, b_and, iter_and = Perceptron(INPUTS, OUTPUT_AND_GATE)\n",
        "print(f'AND gate : {iter_and} iterations')\n",
        "print(w_and, b_and, iter_and, \"\\n\\n\")\n"
      ],
      "metadata": {
        "id": "3spwzNiZBv6Z",
        "colab": {
          "base_uri": "https://localhost:8080/"
        },
        "outputId": "a6b81052-5c02-413e-a459-9425083510d6"
      },
      "execution_count": null,
      "outputs": [
        {
          "output_type": "stream",
          "name": "stdout",
          "text": [
            "-1 [-0.7, -1.2, -0.9] 0.5\n",
            "0 [0.30000000000000004, -0.19999999999999996, -1.9] -0.5\n",
            "1 [1.3, -1.2, -0.8999999999999999] -1.5\n",
            "3 no error\n",
            "-1 [0.30000000000000004, -2.2, -1.9] -0.5\n",
            "1 no error\n",
            "2 no error\n",
            "3 no error\n",
            "0 no error\n",
            "1 no error\n",
            "2 no error\n",
            "3 no error\n",
            "AND gate : 3 iterations\n",
            "[0.30000000000000004, -2.2, -1.9] -0.5 3 \n",
            "\n",
            "\n"
          ]
        }
      ]
    },
    {
      "cell_type": "code",
      "source": [],
      "metadata": {
        "id": "sd24utKTRTyp"
      },
      "execution_count": null,
      "outputs": []
    }
  ]
}