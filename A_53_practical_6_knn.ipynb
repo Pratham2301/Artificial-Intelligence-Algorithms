{
  "nbformat": 4,
  "nbformat_minor": 0,
  "metadata": {
    "colab": {
      "provenance": []
    },
    "kernelspec": {
      "name": "python3",
      "display_name": "Python 3"
    },
    "language_info": {
      "name": "python"
    }
  },
  "cells": [
    {
      "cell_type": "markdown",
      "source": [
        "# Artificial Intelligence Lab \n",
        "# Practical - 06\n",
        "\n",
        "<hr>\n",
        "\n",
        "### Name : Prathamesh Rajbhoj\n",
        "### Roll : 53\n",
        "### Batch : A-3\n",
        "\n",
        "<hr>\n"
      ],
      "metadata": {
        "id": "PwTgNkCiU6ox"
      }
    },
    {
      "cell_type": "markdown",
      "source": [
        "## Generating Random Samples"
      ],
      "metadata": {
        "id": "e68ydhFGU-XZ"
      }
    },
    {
      "cell_type": "code",
      "execution_count": 1,
      "metadata": {
        "colab": {
          "base_uri": "https://localhost:8080/"
        },
        "id": "P8Z8JfxV2Kjx",
        "outputId": "384b3938-49f6-4ee1-fb80-6db91c20908f"
      },
      "outputs": [
        {
          "output_type": "stream",
          "name": "stdout",
          "text": [
            "[(74, 57, 'negative'), (75, 1, 'positive'), (38, 6, 'positive'), (72, 68, 'negative'), (57, 51, 'negative'), (57, 28, 'negative'), (6, 25, 'positive'), (18, 26, 'positive'), (3, 16, 'positive'), (1, 52, 'positive'), (52, 11, 'positive'), (3, 20, 'positive'), (64, 52, 'negative'), (60, 31, 'negative'), (36, 16, 'positive'), (29, 67, 'negative'), (44, 21, 'positive'), (39, 73, 'negative'), (3, 15, 'positive'), (17, 76, 'positive')]\n"
          ]
        }
      ],
      "source": [
        "import random\n",
        "import math\n",
        "\n",
        "points = []\n",
        "\n",
        "for i in range(20):\n",
        "  num1 = random.random()\n",
        "  num2 = random.random()\n",
        "\n",
        "  num1 = int((num1*100))%80\n",
        "  num2 = int((num2*100))%80\n",
        "\n",
        "  if(num1<26 or num2<26):\n",
        "    points.append((num1, num2, \"positive\"))\n",
        "  else:\n",
        "    points.append((num1, num2, \"negative\"))\n",
        "\n",
        "print(points)"
      ]
    },
    {
      "cell_type": "markdown",
      "source": [
        "## KNN Function"
      ],
      "metadata": {
        "id": "NOFLoqxZVGjS"
      }
    },
    {
      "cell_type": "code",
      "source": [
        "import math \n",
        "\n",
        "def knn(points, input, k):\n",
        "\n",
        "  closest = []\n",
        "\n",
        "  for i in points:\n",
        "\n",
        "    x = i[0]-input[0]\n",
        "    x = x*x\n",
        "\n",
        "    y = i[1]-input[1]\n",
        "    y = y*y\n",
        "\n",
        "    dist = math.sqrt(x+y)\n",
        "\n",
        "    closest.append((dist,i[2]))\n",
        "\n",
        "  closest.sort()\n",
        "\n",
        "  pos = 0\n",
        "  neg = 0\n",
        "\n",
        "  for i in range(k):\n",
        "\n",
        "    val = closest[i][1]\n",
        "\n",
        "    if(val==\"positive\"):\n",
        "      pos = pos + 1\n",
        "    else:\n",
        "      neg = neg + 1\n",
        "\n",
        "  if(pos>=neg):\n",
        "    return \"positive\"\n",
        "  else:\n",
        "    return \"negative\"\n"
      ],
      "metadata": {
        "id": "vI1Jgl6A4IAb"
      },
      "execution_count": 2,
      "outputs": []
    },
    {
      "cell_type": "markdown",
      "source": [
        "## Applying KNN for k = [1,5]"
      ],
      "metadata": {
        "id": "5wRDnQcjVJgZ"
      }
    },
    {
      "cell_type": "code",
      "source": [
        "limit = 26\n",
        "input = (40,30)\n",
        "\n",
        "for i in range(1,6):\n",
        "  ans = knn(points, input, 5)\n",
        "  print(i, ans)"
      ],
      "metadata": {
        "colab": {
          "base_uri": "https://localhost:8080/"
        },
        "id": "E_YFN9UQ5aCB",
        "outputId": "6ef27f99-33a2-4bc9-ee10-9794538688e7"
      },
      "execution_count": 3,
      "outputs": [
        {
          "output_type": "stream",
          "name": "stdout",
          "text": [
            "1 positive\n",
            "2 positive\n",
            "3 positive\n",
            "4 positive\n",
            "5 positive\n"
          ]
        }
      ]
    }
  ]
}